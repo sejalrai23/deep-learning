{
 "cells": [
  {
   "cell_type": "code",
   "execution_count": 1,
   "metadata": {},
   "outputs": [],
   "source": [
    "#part1 identifying the frauds with the som"
   ]
  },
  {
   "cell_type": "code",
   "execution_count": 4,
   "metadata": {},
   "outputs": [
    {
     "data": {
      "image/png": "[encoded data removed]",
      "text/plain": [
       "<Figure size 432x288 with 2 Axes>"
      ]
     },
     "metadata": {
      "needs_background": "light"
     },
     "output_type": "display_data"
    },
    {
     "name": "stdout",
     "output_type": "stream",
     "text": [
      "Fraud Customer IDs\n",
      "15597709\n",
      "15587266\n",
      "15567860\n",
      "15604130\n",
      "15624423\n",
      "15604196\n",
      "15587297\n",
      "15609823\n",
      "15614813\n",
      "15711249\n",
      "15658504\n",
      "15700046\n",
      "15569595\n",
      "15587443\n",
      "15665181\n"
     ]
    }
   ],
   "source": [
    "import numpy as np\n",
    "import matplotlib.pyplot as plt\n",
    "import pandas as pd\n",
    "data=pd.read_csv('./soms/Credit_Card_Applications.csv')\n",
    "X=data.iloc[:,:-1].values\n",
    "y=data.iloc[:,-1].values\n",
    "#feature scaling\n",
    "from sklearn.preprocessing import MinMaxScaler\n",
    "sc=MinMaxScaler(feature_range=(0,1))\n",
    "X_scaled=sc.fit_transform(X)\n",
    "#training the som\n",
    "from minisom import MiniSom \n",
    "som = MiniSom(x=10,y=10,input_len=15,sigma=1.0,learning_rate=0.5)\n",
    "som.random_weights_init(X_scaled)\n",
    "som.train_random(data=X_scaled,num_iteration=100)\n",
    "#visualizing the results\n",
    "from pylab import bone, pcolor, colorbar,plot,show\n",
    "bone()\n",
    "pcolor(som.distance_map().T)\n",
    "colorbar()\n",
    "#red-for not approved green-for approved\n",
    "markers=['o','s']\n",
    "colors=['r','g']\n",
    "for i,x  in enumerate(X_scaled):\n",
    "    w=som.winner(x)\n",
    "    plot(w[0]+0.5,w[1]+0.5,markers[y[i]],markeredgecolor=colors[y[i]],markerfacecolor='None',markersize = 10,\n",
    "         markeredgewidth = 2)\n",
    "show()\n",
    "    \n",
    "mappings=som.win_map(X_scaled)\n",
    "fraud=np.concatenate((mappings[(1,2)],mappings[(4,2)]),axis=0)\n",
    "fraud=sc.inverse_transform(fraud)\n",
    "print('Fraud Customer IDs')\n",
    "for i in fraud[:, 0]:\n",
    "  print(int(i))\n",
    "\n"
   ]
  },
  {
   "cell_type": "code",
   "execution_count": 5,
   "metadata": {},
   "outputs": [],
   "source": [
    "#part2 going from unsupervised to supervised deep learning\n",
    "\n",
    "#creating the matrix of features\n",
    "customers=data.iloc[:,1:].values\n",
    "\n",
    "#creating a dependent variable\n",
    "is_fraud=np.zeros(len(data))\n",
    "for i in range(len(data)):\n",
    "    if data.iloc[i,0] in fraud:\n",
    "        is_fraud[i]=1\n"
   ]
  },
  {
   "cell_type": "code",
   "execution_count": 8,
   "metadata": {},
   "outputs": [],
   "source": [
    "#building model\n",
    "\n",
    "from sklearn.preprocessing import StandardScaler\n",
    "sc = StandardScaler()\n",
    "customers = sc.fit_transform(customers)\n",
    "\n",
    "\n",
    "from tensorflow.keras.models import Sequential\n",
    "from tensorflow.keras.layers import Dense \n",
    "ann= Sequential()\n",
    "\n",
    "ann.add(Dense(2,kernel_initializer='uniform' ,activation='relu',input_dim=15))\n",
    "ann.add(Dense(1, kernel_initializer='uniform', activation='sigmoid'))\n",
    "\n",
    "ann.compile(loss='binary_crossentropy',optimizer='adam',metrics=['accuracy'])\n"
   ]
  },
  {
   "cell_type": "code",
   "execution_count": 9,
   "metadata": {},
   "outputs": [
    {
     "name": "stdout",
     "output_type": "stream",
     "text": [
      "Epoch 1/2\n",
      "690/690 - 1s - loss: 0.4661 - accuracy: 0.9768\n",
      "Epoch 2/2\n",
      "690/690 - 0s - loss: 0.2393 - accuracy: 0.9783\n"
     ]
    },
    {
     "data": {
      "text/plain": [
       "<tensorflow.python.keras.callbacks.History at 0x23c78bd1d48>"
      ]
     },
     "execution_count": 9,
     "metadata": {},
     "output_type": "execute_result"
    }
   ],
   "source": [
    "ann.fit(customers, is_fraud, batch_size = 1, epochs = 2,verbose=2)\n"
   ]
  },
  {
   "cell_type": "code",
   "execution_count": 10,
   "metadata": {},
   "outputs": [],
   "source": [
    "#predicting the probabilty of frauds\n",
    "y_pred=ann.predict(customers)"
   ]
  },
  {
   "cell_type": "code",
   "execution_count": 12,
   "metadata": {},
   "outputs": [],
   "source": [
    "# y_pred"
   ]
  },
  {
   "cell_type": "code",
   "execution_count": 13,
   "metadata": {},
   "outputs": [],
   "source": [
    "y_pred=np.concatenate((data.iloc[:,0:1].values,y_pred),axis=1)\n",
    "    "
   ]
  },
  {
   "cell_type": "code",
   "execution_count": 14,
   "metadata": {},
   "outputs": [
    {
     "data": {
      "text/plain": [
       "array([[1.57761560e+07, 5.95150292e-02],\n",
       "       [1.57395480e+07, 3.15937102e-02],\n",
       "       [1.56628540e+07, 2.06043422e-02],\n",
       "       ...,\n",
       "       [1.56754500e+07, 8.23983252e-02],\n",
       "       [1.57764940e+07, 1.42293930e-01],\n",
       "       [1.55924120e+07, 7.45704472e-02]])"
      ]
     },
     "execution_count": 14,
     "metadata": {},
     "output_type": "execute_result"
    }
   ],
   "source": [
    "y_pred"
   ]
  },
  {
   "cell_type": "code",
   "execution_count": 15,
   "metadata": {},
   "outputs": [],
   "source": [
    "y_pred=y_pred[y_pred[:,1].argsort()]\n"
   ]
  },
  {
   "cell_type": "code",
   "execution_count": 16,
   "metadata": {},
   "outputs": [
    {
     "data": {
      "text/plain": [
       "array([[1.56058720e+07, 5.79896569e-03],\n",
       "       [1.57067620e+07, 1.18008256e-02],\n",
       "       [1.55681620e+07, 1.46612227e-02],\n",
       "       ...,\n",
       "       [1.56577780e+07, 3.08162451e-01],\n",
       "       [1.55688190e+07, 3.08162451e-01],\n",
       "       [1.57504760e+07, 3.08162451e-01]])"
      ]
     },
     "execution_count": 16,
     "metadata": {},
     "output_type": "execute_result"
    }
   ],
   "source": [
    "y_pred"
   ]
  },
  {
   "cell_type": "code",
   "execution_count": null,
   "metadata": {},
   "outputs": [],
   "source": []
  }
 ],
 "metadata": {
  "kernelspec": {
   "display_name": "Python 3",
   "language": "python",
   "name": "python3"
  },
  "language_info": {
   "codemirror_mode": {
    "name": "ipython",
    "version": 3
   },
   "file_extension": ".py",
   "mimetype": "text/x-python",
   "name": "python",
   "nbconvert_exporter": "python",
   "pygments_lexer": "ipython3",
   "version": "3.7.4"
  }
 },
 "nbformat": 4,
 "nbformat_minor": 4
}
