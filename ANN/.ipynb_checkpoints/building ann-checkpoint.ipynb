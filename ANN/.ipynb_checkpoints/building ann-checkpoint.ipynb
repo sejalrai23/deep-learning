{
 "cells": [
  {
   "cell_type": "code",
   "execution_count": 1,
   "metadata": {},
   "outputs": [],
   "source": [
    "import numpy as np\n",
    "import matplotlib.pyplot as plt\n",
    "import pandas as pd\n",
    "import tensorflow as tf"
   ]
  },
  {
   "cell_type": "code",
   "execution_count": 2,
   "metadata": {},
   "outputs": [],
   "source": [
    "dataset = pd.read_csv('Churn_Modelling.csv')\n",
    "X = dataset.iloc[:, 3:-1].values\n",
    "y = dataset.iloc[:, -1].values"
   ]
  },
  {
   "cell_type": "code",
   "execution_count": 8,
   "metadata": {},
   "outputs": [
    {
     "name": "stdout",
     "output_type": "stream",
     "text": [
      "[[619 'France' 'Female' ... 1 1 101348.88]\n",
      " [608 'Spain' 'Female' ... 0 1 112542.58]\n",
      " [502 'France' 'Female' ... 1 0 113931.57]\n",
      " ...\n",
      " [709 'France' 'Female' ... 0 1 42085.58]\n",
      " [772 'Germany' 'Male' ... 1 0 92888.52]\n",
      " [792 'France' 'Female' ... 1 0 38190.78]]\n"
     ]
    }
   ],
   "source": [
    "print(X)\n",
    "\n",
    "\n"
   ]
  },
  {
   "cell_type": "code",
   "execution_count": 9,
   "metadata": {},
   "outputs": [],
   "source": [
    "#label encoding the gender column\n",
    "from sklearn.preprocessing import LabelEncoder\n",
    "le=LabelEncoder()\n",
    "X[:,2]= le.fit_transform(X[:,2])"
   ]
  },
  {
   "cell_type": "code",
   "execution_count": 10,
   "metadata": {},
   "outputs": [
    {
     "name": "stdout",
     "output_type": "stream",
     "text": [
      "[[619 'France' 0 ... 1 1 101348.88]\n",
      " [608 'Spain' 0 ... 0 1 112542.58]\n",
      " [502 'France' 0 ... 1 0 113931.57]\n",
      " ...\n",
      " [709 'France' 0 ... 0 1 42085.58]\n",
      " [772 'Germany' 1 ... 1 0 92888.52]\n",
      " [792 'France' 0 ... 1 0 38190.78]]\n"
     ]
    }
   ],
   "source": [
    "print(X)"
   ]
  },
  {
   "cell_type": "code",
   "execution_count": 11,
   "metadata": {},
   "outputs": [],
   "source": [
    "from sklearn.compose import ColumnTransformer\n",
    "from sklearn.preprocessing import OneHotEncoder\n",
    "ct = ColumnTransformer(transformers=[('encoder', OneHotEncoder(), [1])], remainder='passthrough')\n",
    "X = np.array(ct.fit_transform(X))"
   ]
  },
  {
   "cell_type": "code",
   "execution_count": 12,
   "metadata": {},
   "outputs": [
    {
     "name": "stdout",
     "output_type": "stream",
     "text": [
      "[[1.0 0.0 0.0 ... 1 1 101348.88]\n",
      " [0.0 0.0 1.0 ... 0 1 112542.58]\n",
      " [1.0 0.0 0.0 ... 1 0 113931.57]\n",
      " ...\n",
      " [1.0 0.0 0.0 ... 0 1 42085.58]\n",
      " [0.0 1.0 0.0 ... 1 0 92888.52]\n",
      " [1.0 0.0 0.0 ... 1 0 38190.78]]\n"
     ]
    }
   ],
   "source": [
    "print(X)"
   ]
  },
  {
   "cell_type": "code",
   "execution_count": 13,
   "metadata": {},
   "outputs": [],
   "source": [
    "from sklearn.model_selection import train_test_split\n"
   ]
  },
  {
   "cell_type": "code",
   "execution_count": 14,
   "metadata": {},
   "outputs": [],
   "source": [
    "X_train, X_test, y_train, y_test = train_test_split(X, y, test_size = 0.2, random_state = 0)"
   ]
  },
  {
   "cell_type": "code",
   "execution_count": 16,
   "metadata": {},
   "outputs": [
    {
     "data": {
      "text/plain": [
       "250898.09"
      ]
     },
     "execution_count": 16,
     "metadata": {},
     "output_type": "execute_result"
    }
   ],
   "source": [
    "X_test.max()"
   ]
  },
  {
   "cell_type": "code",
   "execution_count": 17,
   "metadata": {},
   "outputs": [],
   "source": [
    "from sklearn.preprocessing import StandardScaler\n",
    "sc = StandardScaler()\n",
    "X_train = sc.fit_transform(X_train)\n",
    "X_test = sc.transform(X_test)"
   ]
  },
  {
   "cell_type": "code",
   "execution_count": 18,
   "metadata": {},
   "outputs": [
    {
     "data": {
      "text/plain": [
       "4.703418381363563"
      ]
     },
     "execution_count": 18,
     "metadata": {},
     "output_type": "execute_result"
    }
   ],
   "source": [
    "X_train.max()"
   ]
  },
  {
   "cell_type": "code",
   "execution_count": 19,
   "metadata": {},
   "outputs": [],
   "source": [
    "from tensorflow.keras.models import Sequential\n",
    "from tensorflow.keras.layers import Dense "
   ]
  },
  {
   "cell_type": "code",
   "execution_count": 22,
   "metadata": {},
   "outputs": [],
   "source": [
    "ann= Sequential()\n",
    "\n",
    "ann.add(Dense(6,activation='relu'))\n",
    "ann.add(Dense(6,activation='relu'))\n",
    "ann.add(Dense(1,activation='sigmoid'))\n"
   ]
  },
  {
   "cell_type": "code",
   "execution_count": 23,
   "metadata": {},
   "outputs": [],
   "source": [
    "ann.compile(loss='binary_crossentropy',optimizer='adam',metrics=['accuracy'])"
   ]
  },
  {
   "cell_type": "code",
   "execution_count": 24,
   "metadata": {},
   "outputs": [
    {
     "name": "stdout",
     "output_type": "stream",
     "text": [
      "Epoch 1/100\n",
      "250/250 - 1s - loss: 0.5313 - accuracy: 0.7806\n",
      "Epoch 2/100\n",
      "250/250 - 0s - loss: 0.4573 - accuracy: 0.7960\n",
      "Epoch 3/100\n",
      "250/250 - 0s - loss: 0.4373 - accuracy: 0.7977\n",
      "Epoch 4/100\n",
      "250/250 - 0s - loss: 0.4259 - accuracy: 0.8008\n",
      "Epoch 5/100\n",
      "250/250 - 0s - loss: 0.4180 - accuracy: 0.8011\n",
      "Epoch 6/100\n",
      "250/250 - 0s - loss: 0.4115 - accuracy: 0.8065\n",
      "Epoch 7/100\n",
      "250/250 - 0s - loss: 0.4064 - accuracy: 0.8136\n",
      "Epoch 8/100\n",
      "250/250 - 0s - loss: 0.4009 - accuracy: 0.8159\n",
      "Epoch 9/100\n",
      "250/250 - 0s - loss: 0.3969 - accuracy: 0.8189\n",
      "Epoch 10/100\n",
      "250/250 - 0s - loss: 0.3938 - accuracy: 0.8273\n",
      "Epoch 11/100\n",
      "250/250 - 0s - loss: 0.3908 - accuracy: 0.8324\n",
      "Epoch 12/100\n",
      "250/250 - 0s - loss: 0.3883 - accuracy: 0.8339\n",
      "Epoch 13/100\n",
      "250/250 - 0s - loss: 0.3864 - accuracy: 0.8367\n",
      "Epoch 14/100\n",
      "250/250 - 0s - loss: 0.3842 - accuracy: 0.8361\n",
      "Epoch 15/100\n",
      "250/250 - 0s - loss: 0.3821 - accuracy: 0.8380\n",
      "Epoch 16/100\n",
      "250/250 - 0s - loss: 0.3802 - accuracy: 0.8393\n",
      "Epoch 17/100\n",
      "250/250 - 0s - loss: 0.3780 - accuracy: 0.8396\n",
      "Epoch 18/100\n",
      "250/250 - 0s - loss: 0.3765 - accuracy: 0.8390\n",
      "Epoch 19/100\n",
      "250/250 - 0s - loss: 0.3746 - accuracy: 0.8410\n",
      "Epoch 20/100\n",
      "250/250 - 0s - loss: 0.3730 - accuracy: 0.8414\n",
      "Epoch 21/100\n",
      "250/250 - 0s - loss: 0.3712 - accuracy: 0.8428\n",
      "Epoch 22/100\n",
      "250/250 - 0s - loss: 0.3699 - accuracy: 0.8439\n",
      "Epoch 23/100\n",
      "250/250 - 0s - loss: 0.3682 - accuracy: 0.8434\n",
      "Epoch 24/100\n",
      "250/250 - 0s - loss: 0.3671 - accuracy: 0.8478\n",
      "Epoch 25/100\n",
      "250/250 - 0s - loss: 0.3656 - accuracy: 0.8459\n",
      "Epoch 26/100\n",
      "250/250 - 0s - loss: 0.3642 - accuracy: 0.8482\n",
      "Epoch 27/100\n",
      "250/250 - 0s - loss: 0.3624 - accuracy: 0.8493\n",
      "Epoch 28/100\n",
      "250/250 - 0s - loss: 0.3603 - accuracy: 0.8503\n",
      "Epoch 29/100\n",
      "250/250 - 0s - loss: 0.3577 - accuracy: 0.8529\n",
      "Epoch 30/100\n",
      "250/250 - 0s - loss: 0.3557 - accuracy: 0.8534\n",
      "Epoch 31/100\n",
      "250/250 - 0s - loss: 0.3531 - accuracy: 0.8553\n",
      "Epoch 32/100\n",
      "250/250 - 0s - loss: 0.3509 - accuracy: 0.8553\n",
      "Epoch 33/100\n",
      "250/250 - 0s - loss: 0.3492 - accuracy: 0.8571\n",
      "Epoch 34/100\n",
      "250/250 - 0s - loss: 0.3465 - accuracy: 0.8579\n",
      "Epoch 35/100\n",
      "250/250 - 0s - loss: 0.3465 - accuracy: 0.8594\n",
      "Epoch 36/100\n",
      "250/250 - 0s - loss: 0.3446 - accuracy: 0.8593\n",
      "Epoch 37/100\n",
      "250/250 - 0s - loss: 0.3433 - accuracy: 0.8614\n",
      "Epoch 38/100\n",
      "250/250 - 0s - loss: 0.3421 - accuracy: 0.8619\n",
      "Epoch 39/100\n",
      "250/250 - 0s - loss: 0.3410 - accuracy: 0.8629\n",
      "Epoch 40/100\n",
      "250/250 - 0s - loss: 0.3406 - accuracy: 0.8624\n",
      "Epoch 41/100\n",
      "250/250 - 0s - loss: 0.3403 - accuracy: 0.8624\n",
      "Epoch 42/100\n",
      "250/250 - 0s - loss: 0.3397 - accuracy: 0.8626\n",
      "Epoch 43/100\n",
      "250/250 - 0s - loss: 0.3390 - accuracy: 0.8626\n",
      "Epoch 44/100\n",
      "250/250 - 0s - loss: 0.3387 - accuracy: 0.8644\n",
      "Epoch 45/100\n",
      "250/250 - 0s - loss: 0.3390 - accuracy: 0.8626\n",
      "Epoch 46/100\n",
      "250/250 - 0s - loss: 0.3385 - accuracy: 0.8626\n",
      "Epoch 47/100\n",
      "250/250 - 0s - loss: 0.3382 - accuracy: 0.8624\n",
      "Epoch 48/100\n",
      "250/250 - 0s - loss: 0.3377 - accuracy: 0.8633\n",
      "Epoch 49/100\n",
      "250/250 - 0s - loss: 0.3381 - accuracy: 0.8618\n",
      "Epoch 50/100\n",
      "250/250 - 0s - loss: 0.3372 - accuracy: 0.8622\n",
      "Epoch 51/100\n",
      "250/250 - 0s - loss: 0.3369 - accuracy: 0.8608\n",
      "Epoch 52/100\n",
      "250/250 - 0s - loss: 0.3372 - accuracy: 0.8630\n",
      "Epoch 53/100\n",
      "250/250 - 0s - loss: 0.3367 - accuracy: 0.8616\n",
      "Epoch 54/100\n",
      "250/250 - 0s - loss: 0.3369 - accuracy: 0.8616\n",
      "Epoch 55/100\n",
      "250/250 - 0s - loss: 0.3370 - accuracy: 0.8615\n",
      "Epoch 56/100\n",
      "250/250 - 0s - loss: 0.3367 - accuracy: 0.8620\n",
      "Epoch 57/100\n",
      "250/250 - 0s - loss: 0.3363 - accuracy: 0.8622\n",
      "Epoch 58/100\n",
      "250/250 - 0s - loss: 0.3366 - accuracy: 0.8625\n",
      "Epoch 59/100\n",
      "250/250 - 0s - loss: 0.3362 - accuracy: 0.8629\n",
      "Epoch 60/100\n",
      "250/250 - 0s - loss: 0.3362 - accuracy: 0.8633\n",
      "Epoch 61/100\n",
      "250/250 - 0s - loss: 0.3362 - accuracy: 0.8640\n",
      "Epoch 62/100\n",
      "250/250 - 0s - loss: 0.3362 - accuracy: 0.8631\n",
      "Epoch 63/100\n",
      "250/250 - 0s - loss: 0.3361 - accuracy: 0.8634\n",
      "Epoch 64/100\n",
      "250/250 - 0s - loss: 0.3357 - accuracy: 0.8633\n",
      "Epoch 65/100\n",
      "250/250 - 0s - loss: 0.3360 - accuracy: 0.8639\n",
      "Epoch 66/100\n",
      "250/250 - 0s - loss: 0.3358 - accuracy: 0.8636\n",
      "Epoch 67/100\n",
      "250/250 - 0s - loss: 0.3356 - accuracy: 0.8626\n",
      "Epoch 68/100\n",
      "250/250 - 0s - loss: 0.3357 - accuracy: 0.8629\n",
      "Epoch 69/100\n",
      "250/250 - 0s - loss: 0.3354 - accuracy: 0.8616\n",
      "Epoch 70/100\n",
      "250/250 - 0s - loss: 0.3356 - accuracy: 0.8646\n",
      "Epoch 71/100\n",
      "250/250 - 0s - loss: 0.3355 - accuracy: 0.8625\n",
      "Epoch 72/100\n",
      "250/250 - 0s - loss: 0.3352 - accuracy: 0.8631\n",
      "Epoch 73/100\n",
      "250/250 - 0s - loss: 0.3354 - accuracy: 0.8629\n",
      "Epoch 74/100\n",
      "250/250 - 0s - loss: 0.3355 - accuracy: 0.8622\n",
      "Epoch 75/100\n",
      "250/250 - 0s - loss: 0.3351 - accuracy: 0.8637\n",
      "Epoch 76/100\n",
      "250/250 - 0s - loss: 0.3351 - accuracy: 0.8645\n",
      "Epoch 77/100\n",
      "250/250 - 0s - loss: 0.3350 - accuracy: 0.8624\n",
      "Epoch 78/100\n",
      "250/250 - 0s - loss: 0.3356 - accuracy: 0.8633\n",
      "Epoch 79/100\n",
      "250/250 - 0s - loss: 0.3351 - accuracy: 0.8637\n",
      "Epoch 80/100\n",
      "250/250 - 0s - loss: 0.3350 - accuracy: 0.8620\n",
      "Epoch 81/100\n",
      "250/250 - 0s - loss: 0.3353 - accuracy: 0.8635\n",
      "Epoch 82/100\n",
      "250/250 - 0s - loss: 0.3350 - accuracy: 0.8626\n",
      "Epoch 83/100\n",
      "250/250 - 0s - loss: 0.3353 - accuracy: 0.8639\n",
      "Epoch 84/100\n",
      "250/250 - 0s - loss: 0.3349 - accuracy: 0.8634\n",
      "Epoch 85/100\n",
      "250/250 - 0s - loss: 0.3349 - accuracy: 0.8639\n",
      "Epoch 86/100\n",
      "250/250 - 0s - loss: 0.3351 - accuracy: 0.8631\n",
      "Epoch 87/100\n",
      "250/250 - 0s - loss: 0.3352 - accuracy: 0.8646\n",
      "Epoch 88/100\n",
      "250/250 - 0s - loss: 0.3347 - accuracy: 0.8635\n",
      "Epoch 89/100\n",
      "250/250 - 0s - loss: 0.3354 - accuracy: 0.8624\n",
      "Epoch 90/100\n",
      "250/250 - 0s - loss: 0.3347 - accuracy: 0.8636\n",
      "Epoch 91/100\n",
      "250/250 - 0s - loss: 0.3350 - accuracy: 0.8616\n",
      "Epoch 92/100\n",
      "250/250 - 0s - loss: 0.3349 - accuracy: 0.8639\n",
      "Epoch 93/100\n",
      "250/250 - 0s - loss: 0.3348 - accuracy: 0.8631\n",
      "Epoch 94/100\n",
      "250/250 - 0s - loss: 0.3351 - accuracy: 0.8636\n",
      "Epoch 95/100\n",
      "250/250 - 0s - loss: 0.3350 - accuracy: 0.8637\n",
      "Epoch 96/100\n",
      "250/250 - 0s - loss: 0.3345 - accuracy: 0.8641\n",
      "Epoch 97/100\n",
      "250/250 - 0s - loss: 0.3347 - accuracy: 0.8624\n",
      "Epoch 98/100\n",
      "250/250 - 0s - loss: 0.3347 - accuracy: 0.8639\n",
      "Epoch 99/100\n",
      "250/250 - 0s - loss: 0.3346 - accuracy: 0.8644\n",
      "Epoch 100/100\n",
      "250/250 - 1s - loss: 0.3346 - accuracy: 0.8648\n"
     ]
    },
    {
     "data": {
      "text/plain": [
       "<tensorflow.python.keras.callbacks.History at 0x1d063046508>"
      ]
     },
     "execution_count": 24,
     "metadata": {},
     "output_type": "execute_result"
    }
   ],
   "source": [
    "ann.fit(X_train, y_train, batch_size = 32, epochs = 100,verbose=2)"
   ]
  },
  {
   "cell_type": "code",
   "execution_count": 25,
   "metadata": {},
   "outputs": [],
   "source": [
    "# Use our ANN model to predict if the customer with the following informations will leave the bank:\n",
    "\n",
    "# Geography: France\n",
    "\n",
    "# Credit Score: 600\n",
    "\n",
    "# Gender: Male\n",
    "\n",
    "# Age: 40 years old\n",
    "\n",
    "# Tenure: 3 years\n",
    "\n",
    "# Balance: $ 60000\n",
    "\n",
    "# Number of Products: 2\n",
    "\n",
    "# Does this customer have a credit card? Yes\n",
    "\n",
    "# Is this customer an Active Member: Yes\n",
    "\n",
    "# Estimated Salary: $ 50000\n",
    "\n",
    "# So, should we say goodbye to that customer?"
   ]
  },
  {
   "cell_type": "code",
   "execution_count": 28,
   "metadata": {},
   "outputs": [
    {
     "name": "stdout",
     "output_type": "stream",
     "text": [
      "[[False]]\n"
     ]
    }
   ],
   "source": [
    "print(ann.predict(sc.transform([[1,0,0,600,1,40,3,60000,2,1,1,50000]]))>0.5)"
   ]
  },
  {
   "cell_type": "code",
   "execution_count": 29,
   "metadata": {},
   "outputs": [
    {
     "name": "stdout",
     "output_type": "stream",
     "text": [
      "[[0 0]\n",
      " [0 1]\n",
      " [0 0]\n",
      " ...\n",
      " [0 0]\n",
      " [0 0]\n",
      " [0 0]]\n"
     ]
    }
   ],
   "source": [
    "y_pred = ann.predict(X_test)\n",
    "y_pred = (y_pred > 0.5)\n",
    "print(np.concatenate((y_pred.reshape(len(y_pred),1), y_test.reshape(len(y_test),1)),1))"
   ]
  },
  {
   "cell_type": "code",
   "execution_count": 30,
   "metadata": {},
   "outputs": [
    {
     "name": "stdout",
     "output_type": "stream",
     "text": [
      "[[1521   74]\n",
      " [ 192  213]]\n"
     ]
    },
    {
     "data": {
      "text/plain": [
       "0.867"
      ]
     },
     "execution_count": 30,
     "metadata": {},
     "output_type": "execute_result"
    }
   ],
   "source": [
    "from sklearn.metrics import confusion_matrix, accuracy_score\n",
    "cm = confusion_matrix(y_test, y_pred)\n",
    "print(cm)\n",
    "accuracy_score(y_test, y_pred)"
   ]
  },
  {
   "cell_type": "code",
   "execution_count": 31,
   "metadata": {},
   "outputs": [],
   "source": [
    "ann.save('Churn_Modelling_model.h5')"
   ]
  },
  {
   "cell_type": "code",
   "execution_count": null,
   "metadata": {},
   "outputs": [],
   "source": []
  }
 ],
 "metadata": {
  "kernelspec": {
   "display_name": "Python 3",
   "language": "python",
   "name": "python3"
  },
  "language_info": {
   "codemirror_mode": {
    "name": "ipython",
    "version": 3
   },
   "file_extension": ".py",
   "mimetype": "text/x-python",
   "name": "python",
   "nbconvert_exporter": "python",
   "pygments_lexer": "ipython3",
   "version": "3.7.4"
  }
 },
 "nbformat": 4,
 "nbformat_minor": 4
}
