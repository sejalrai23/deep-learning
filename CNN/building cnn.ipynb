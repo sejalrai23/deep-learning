{
 "cells": [
  {
   "cell_type": "code",
   "execution_count": 3,
   "metadata": {},
   "outputs": [],
   "source": [
    "import tensorflow as tf\n",
    "from tensorflow.keras.preprocessing.image import ImageDataGenerator\n"
   ]
  },
  {
   "cell_type": "code",
   "execution_count": 5,
   "metadata": {},
   "outputs": [
    {
     "data": {
      "text/plain": [
       "'2.5.0'"
      ]
     },
     "execution_count": 5,
     "metadata": {},
     "output_type": "execute_result"
    }
   ],
   "source": [
    "tf.__version__"
   ]
  },
  {
   "cell_type": "code",
   "execution_count": 7,
   "metadata": {},
   "outputs": [
    {
     "name": "stdout",
     "output_type": "stream",
     "text": [
      "Found 8001 images belonging to 2 classes.\n"
     ]
    }
   ],
   "source": [
    "#preprocessing training set \n",
    "train_datagen=ImageDataGenerator(\n",
    "    rescale=1./255,\n",
    "    shear_range=0.2,\n",
    "    zoom_range=0.2,\n",
    "    horizontal_flip=True\n",
    ")\n",
    "train_set=train_datagen.flow_from_directory(\n",
    "    'cnn-dataset/training_set',\n",
    "    target_size=(64,64),\n",
    "    batch_size=32,\n",
    "    class_mode='binary'\n",
    ")\n"
   ]
  },
  {
   "cell_type": "code",
   "execution_count": 33,
   "metadata": {},
   "outputs": [
    {
     "name": "stdout",
     "output_type": "stream",
     "text": [
      "Found 2000 images belonging to 2 classes.\n"
     ]
    }
   ],
   "source": [
    "#preprocessing tesr set\n",
    "test_datagen=ImageDataGenerator(rescale=1./255)\n",
    "test_set=test_datagen.flow_from_directory(\n",
    "    'cnn-dataset/test_set',\n",
    "    target_size=(64,64),\n",
    "    batch_size=32,\n",
    "    class_mode='binary'\n",
    ")\n",
    "\n"
   ]
  },
  {
   "cell_type": "code",
   "execution_count": 34,
   "metadata": {},
   "outputs": [],
   "source": [
    "from tensorflow.keras.models import Sequential\n",
    "from tensorflow.keras.layers import Conv2D\n",
    "from tensorflow.keras.layers import MaxPool2D\n",
    "from tensorflow.keras.layers import Flatten\n",
    "from tensorflow.keras.layers import Dense\n",
    "cnn=Sequential()"
   ]
  },
  {
   "cell_type": "code",
   "execution_count": 35,
   "metadata": {},
   "outputs": [],
   "source": [
    "#adding convolution layer\n",
    "cnn.add(Conv2D(filters=32,kernel_size=3,activation='relu',input_shape=[64,64,3]))"
   ]
  },
  {
   "cell_type": "code",
   "execution_count": 36,
   "metadata": {},
   "outputs": [],
   "source": [
    "#pooling\n",
    "cnn.add(MaxPool2D(pool_size=(2,2),strides=2))"
   ]
  },
  {
   "cell_type": "code",
   "execution_count": 37,
   "metadata": {},
   "outputs": [],
   "source": [
    "#add 2nd convolution layer\n",
    "cnn.add(Conv2D(filters=32,kernel_size=3,activation='relu'))\n",
    "cnn.add(MaxPool2D(pool_size=(2,2),strides=2))"
   ]
  },
  {
   "cell_type": "code",
   "execution_count": 38,
   "metadata": {},
   "outputs": [],
   "source": [
    "#add flattening\n",
    "cnn.add(Flatten())"
   ]
  },
  {
   "cell_type": "code",
   "execution_count": 39,
   "metadata": {},
   "outputs": [],
   "source": [
    "#full connection\n",
    "cnn.add(Dense(units=128,activation='relu'))"
   ]
  },
  {
   "cell_type": "code",
   "execution_count": 40,
   "metadata": {},
   "outputs": [],
   "source": [
    "#output layer\n",
    "cnn.add(Dense(units=1,activation='sigmoid'))"
   ]
  },
  {
   "cell_type": "code",
   "execution_count": 41,
   "metadata": {},
   "outputs": [],
   "source": [
    "#training the cnn:\n",
    "cnn.compile(optimizer = 'adam', loss = 'binary_crossentropy', metrics = ['accuracy'])"
   ]
  },
  {
   "cell_type": "code",
   "execution_count": 42,
   "metadata": {},
   "outputs": [
    {
     "name": "stdout",
     "output_type": "stream",
     "text": [
      "Epoch 1/25\n",
      "251/251 [==============================] - 101s 403ms/step - loss: 0.6634 - accuracy: 0.5894 - val_loss: 0.6064 - val_accuracy: 0.6725\n",
      "Epoch 2/25\n",
      "251/251 [==============================] - 43s 171ms/step - loss: 0.5885 - accuracy: 0.6859 - val_loss: 0.5596 - val_accuracy: 0.7185\n",
      "Epoch 3/25\n",
      "251/251 [==============================] - 44s 176ms/step - loss: 0.5522 - accuracy: 0.7200 - val_loss: 0.5978 - val_accuracy: 0.6940\n",
      "Epoch 4/25\n",
      "251/251 [==============================] - 45s 179ms/step - loss: 0.5260 - accuracy: 0.7382 - val_loss: 0.5059 - val_accuracy: 0.7515\n",
      "Epoch 5/25\n",
      "251/251 [==============================] - 52s 206ms/step - loss: 0.5036 - accuracy: 0.7562 - val_loss: 0.5324 - val_accuracy: 0.7385\n",
      "Epoch 6/25\n",
      "251/251 [==============================] - 51s 204ms/step - loss: 0.4837 - accuracy: 0.7669 - val_loss: 0.4714 - val_accuracy: 0.7785\n",
      "Epoch 7/25\n",
      "251/251 [==============================] - 44s 175ms/step - loss: 0.4635 - accuracy: 0.7762 - val_loss: 0.4751 - val_accuracy: 0.7840\n",
      "Epoch 8/25\n",
      "251/251 [==============================] - 44s 174ms/step - loss: 0.4525 - accuracy: 0.7883 - val_loss: 0.4724 - val_accuracy: 0.7820\n",
      "Epoch 9/25\n",
      "251/251 [==============================] - 45s 179ms/step - loss: 0.4393 - accuracy: 0.7920 - val_loss: 0.4655 - val_accuracy: 0.7825\n",
      "Epoch 10/25\n",
      "251/251 [==============================] - 44s 175ms/step - loss: 0.4325 - accuracy: 0.7949 - val_loss: 0.4678 - val_accuracy: 0.7950\n",
      "Epoch 11/25\n",
      "251/251 [==============================] - 45s 178ms/step - loss: 0.4221 - accuracy: 0.8058 - val_loss: 0.5455 - val_accuracy: 0.7530\n",
      "Epoch 12/25\n",
      "251/251 [==============================] - 44s 177ms/step - loss: 0.4124 - accuracy: 0.8095 - val_loss: 0.4507 - val_accuracy: 0.7930\n",
      "Epoch 13/25\n",
      "251/251 [==============================] - 44s 176ms/step - loss: 0.3991 - accuracy: 0.8184 - val_loss: 0.4319 - val_accuracy: 0.8045\n",
      "Epoch 14/25\n",
      "251/251 [==============================] - 44s 174ms/step - loss: 0.3880 - accuracy: 0.8214 - val_loss: 0.4677 - val_accuracy: 0.7875\n",
      "Epoch 15/25\n",
      "251/251 [==============================] - 45s 178ms/step - loss: 0.4030 - accuracy: 0.8151 - val_loss: 0.4729 - val_accuracy: 0.7855\n",
      "Epoch 16/25\n",
      "251/251 [==============================] - 45s 179ms/step - loss: 0.3770 - accuracy: 0.8278 - val_loss: 0.4553 - val_accuracy: 0.7965\n",
      "Epoch 17/25\n",
      "251/251 [==============================] - 44s 177ms/step - loss: 0.3631 - accuracy: 0.8385 - val_loss: 0.4306 - val_accuracy: 0.8130\n",
      "Epoch 18/25\n",
      "251/251 [==============================] - 45s 180ms/step - loss: 0.3482 - accuracy: 0.8416 - val_loss: 0.4239 - val_accuracy: 0.8170\n",
      "Epoch 19/25\n",
      "251/251 [==============================] - 48s 193ms/step - loss: 0.3477 - accuracy: 0.8409 - val_loss: 0.4213 - val_accuracy: 0.8140\n",
      "Epoch 20/25\n",
      "251/251 [==============================] - 53s 212ms/step - loss: 0.3365 - accuracy: 0.8474 - val_loss: 0.4368 - val_accuracy: 0.8170\n",
      "Epoch 21/25\n",
      "251/251 [==============================] - 56s 224ms/step - loss: 0.3281 - accuracy: 0.8499 - val_loss: 0.4463 - val_accuracy: 0.8125\n",
      "Epoch 22/25\n",
      "251/251 [==============================] - 55s 221ms/step - loss: 0.3173 - accuracy: 0.8610 - val_loss: 0.4349 - val_accuracy: 0.8150\n",
      "Epoch 23/25\n",
      "251/251 [==============================] - 49s 196ms/step - loss: 0.3051 - accuracy: 0.8694 - val_loss: 0.4874 - val_accuracy: 0.8050\n",
      "Epoch 24/25\n",
      "251/251 [==============================] - 54s 215ms/step - loss: 0.3016 - accuracy: 0.8646 - val_loss: 0.4463 - val_accuracy: 0.8180\n",
      "Epoch 25/25\n",
      "251/251 [==============================] - 52s 209ms/step - loss: 0.2923 - accuracy: 0.8768 - val_loss: 0.4372 - val_accuracy: 0.8120\n"
     ]
    },
    {
     "data": {
      "text/plain": [
       "<tensorflow.python.keras.callbacks.History at 0x1f20311ebc8>"
      ]
     },
     "execution_count": 42,
     "metadata": {},
     "output_type": "execute_result"
    }
   ],
   "source": [
    "cnn.fit(x=train_set,validation_data=test_set,epochs=25)"
   ]
  },
  {
   "cell_type": "code",
   "execution_count": 47,
   "metadata": {},
   "outputs": [],
   "source": [
    "import numpy as np\n",
    "from tensorflow.keras.preprocessing import image\n",
    "test_image=image.load_img('cnn-dataset/single_prediction/cat_or_dog_2.jpg',target_size=(64,64))\n",
    "test_image=image.img_to_array(test_image)\n",
    "test_image=np.expand_dims(test_image,axis=0)\n",
    "res=cnn.predict(test_image)\n",
    "train_set.class_indices\n",
    "if res[0][0] == 1:\n",
    "  prediction = 'dog'\n",
    "else:\n",
    "  prediction = 'cat'\n",
    "\n",
    "\n",
    "\n"
   ]
  },
  {
   "cell_type": "code",
   "execution_count": 48,
   "metadata": {},
   "outputs": [
    {
     "name": "stdout",
     "output_type": "stream",
     "text": [
      "cat\n"
     ]
    }
   ],
   "source": [
    "print(prediction)"
   ]
  },
  {
   "cell_type": "code",
   "execution_count": null,
   "metadata": {},
   "outputs": [],
   "source": [
    "cnn.save('cat_dog_pred')"
   ]
  }
 ],
 "metadata": {
  "kernelspec": {
   "display_name": "Python 3",
   "language": "python",
   "name": "python3"
  },
  "language_info": {
   "codemirror_mode": {
    "name": "ipython",
    "version": 3
   },
   "file_extension": ".py",
   "mimetype": "text/x-python",
   "name": "python",
   "nbconvert_exporter": "python",
   "pygments_lexer": "ipython3",
   "version": "3.7.4"
  }
 },
 "nbformat": 4,
 "nbformat_minor": 4
}
